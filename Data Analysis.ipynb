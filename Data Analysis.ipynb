{
 "cells": [
  {
   "cell_type": "code",
   "execution_count": 1,
   "metadata": {},
   "outputs": [],
   "source": [
    "import tweepy           # To consume Twitter's API\n",
    "import pandas as pd     # To handle data\n",
    "import numpy as np      # For number computing\n",
    "\n",
    "# For plotting and visualization:\n",
    "from IPython.display import display\n",
    "import matplotlib.pyplot as plt\n",
    "import seaborn as sns\n",
    "%matplotlib inline"
   ]
  },
  {
   "cell_type": "code",
   "execution_count": 17,
   "metadata": {},
   "outputs": [],
   "source": [
    "ACCESS_TOKEN = \"1094926398-xjds9JDzgcoKpov7AqZQB1OSOa83P6Ot1ISf5PQ\"\n",
    "ACCESS_SECRET =\"EdMgr9HC6IIXYgwUp2VDxfrEtgfdbiLe1ziA7HeChoIsG\" \n",
    "CONSUMER_KEY =\"UaPhFj3tRVHEzrKkjkIT32HFb\" \n",
    "CONSUMER_SECRET =\"UrUCOkdmPrdNhdG4inCBZvhfDUoHZOD7x0VL9HWzCBPAcpFIaM\"     # This will allow us to use the keys as variables\n",
    "\n",
    "# API's setup:\n",
    "def twitter_setup():\n",
    "   \n",
    "    # Authentication and access using keys:\n",
    "    auth = tweepy.OAuthHandler(CONSUMER_KEY, CONSUMER_SECRET)\n",
    "    auth.set_access_token(ACCESS_TOKEN, ACCESS_SECRET)\n",
    " \n",
    "\n",
    "    \n",
    "    # Return API with authentication:\n",
    "    api = tweepy.API(auth)\n",
    "    return api"
   ]
  },
  {
   "cell_type": "code",
   "execution_count": 28,
   "metadata": {},
   "outputs": [
    {
     "name": "stdout",
     "output_type": "stream",
     "text": [
      "Number of tweets extracted: 200.\n",
      "\n",
      "10 recent tweets:\n",
      "\n",
      "Congratulations to Senator Cindy Hyde-Smith on your big WIN in the Great State of Mississippi. We are all very proud of you!\n",
      "\n",
      "Brenda Snipes, in charge of voting in Broward County, Florida, was just spotted wearing a beautiful dress with 300… https://t.co/gPIS4u4r7Q\n",
      "\n",
      "The Mueller Witch Hunt is a total disgrace. They are looking at supposedly stolen Crooked Hillary Clinton Emails (e… https://t.co/Hd4mV8lxv2\n",
      "\n",
      "....for electric cars. General Motors made a big China bet years ago when they built plants there (and in Mexico) -… https://t.co/0U7lwZ3pfy\n",
      "\n",
      "Very disappointed with General Motors and their CEO, Mary Barra, for closing plants in Ohio, Michigan and Maryland.… https://t.co/5JUbkq1Xkg\n",
      "\n",
      "Polls are open in Mississippi. We need Cindy Hyde-Smith in Washington. GO OUT AND VOTE. Thanks!\n",
      "\n",
      "....terrible Gang of Angry Democrats. Look at their past, and look where they come from. The now $30,000,000 Witch… https://t.co/g3rup9iqga\n",
      "\n",
      "....The Fake News Media builds Bob Mueller up as a Saint, when in actuality he is the exact opposite. He is doing T… https://t.co/kpN479HQns\n",
      "\n",
      "The Phony Witch Hunt continues, but Mueller and his gang of Angry Dems are only looking at one side, not the other.… https://t.co/zfYQKl1a2I\n",
      "\n",
      "RT @GOP: “Tomorrow, the voters of this state will cast their ballots in one of the most important Senate elections of your lives—of all of…\n",
      "\n"
     ]
    }
   ],
   "source": [
    "extractor = twitter_setup()\n",
    "\n",
    "# We create a tweet list as follows:\n",
    "\n",
    "tweets = extractor.user_timeline(screen_name=\"realDonaldTrump\", count=500)\n",
    "print(\"Number of tweets extracted: {}.\\n\".format(len(tweets)))\n",
    "\n",
    "# We print the most recent 5 tweets:\n",
    "print(\"10 recent tweets:\\n\")\n",
    "for tweet in tweets[:10]:\n",
    "    \n",
    "    print(tweet.text)\n",
    "    print()"
   ]
  },
  {
   "cell_type": "code",
   "execution_count": 29,
   "metadata": {},
   "outputs": [
    {
     "data": {
      "text/html": [
       "<div>\n",
       "<style scoped>\n",
       "    .dataframe tbody tr th:only-of-type {\n",
       "        vertical-align: middle;\n",
       "    }\n",
       "\n",
       "    .dataframe tbody tr th {\n",
       "        vertical-align: top;\n",
       "    }\n",
       "\n",
       "    .dataframe thead th {\n",
       "        text-align: right;\n",
       "    }\n",
       "</style>\n",
       "<table border=\"1\" class=\"dataframe\">\n",
       "  <thead>\n",
       "    <tr style=\"text-align: right;\">\n",
       "      <th></th>\n",
       "      <th>Tweets</th>\n",
       "    </tr>\n",
       "  </thead>\n",
       "  <tbody>\n",
       "    <tr>\n",
       "      <th>0</th>\n",
       "      <td>Congratulations to Senator Cindy Hyde-Smith on...</td>\n",
       "    </tr>\n",
       "    <tr>\n",
       "      <th>1</th>\n",
       "      <td>Brenda Snipes, in charge of voting in Broward ...</td>\n",
       "    </tr>\n",
       "    <tr>\n",
       "      <th>2</th>\n",
       "      <td>The Mueller Witch Hunt is a total disgrace. Th...</td>\n",
       "    </tr>\n",
       "    <tr>\n",
       "      <th>3</th>\n",
       "      <td>....for electric cars. General Motors made a b...</td>\n",
       "    </tr>\n",
       "    <tr>\n",
       "      <th>4</th>\n",
       "      <td>Very disappointed with General Motors and thei...</td>\n",
       "    </tr>\n",
       "    <tr>\n",
       "      <th>5</th>\n",
       "      <td>Polls are open in Mississippi. We need Cindy H...</td>\n",
       "    </tr>\n",
       "    <tr>\n",
       "      <th>6</th>\n",
       "      <td>....terrible Gang of Angry Democrats. Look at ...</td>\n",
       "    </tr>\n",
       "    <tr>\n",
       "      <th>7</th>\n",
       "      <td>....The Fake News Media builds Bob Mueller up ...</td>\n",
       "    </tr>\n",
       "    <tr>\n",
       "      <th>8</th>\n",
       "      <td>The Phony Witch Hunt continues, but Mueller an...</td>\n",
       "    </tr>\n",
       "    <tr>\n",
       "      <th>9</th>\n",
       "      <td>RT @GOP: “Tomorrow, the voters of this state w...</td>\n",
       "    </tr>\n",
       "  </tbody>\n",
       "</table>\n",
       "</div>"
      ],
      "text/plain": [
       "                                              Tweets\n",
       "0  Congratulations to Senator Cindy Hyde-Smith on...\n",
       "1  Brenda Snipes, in charge of voting in Broward ...\n",
       "2  The Mueller Witch Hunt is a total disgrace. Th...\n",
       "3  ....for electric cars. General Motors made a b...\n",
       "4  Very disappointed with General Motors and thei...\n",
       "5  Polls are open in Mississippi. We need Cindy H...\n",
       "6  ....terrible Gang of Angry Democrats. Look at ...\n",
       "7  ....The Fake News Media builds Bob Mueller up ...\n",
       "8  The Phony Witch Hunt continues, but Mueller an...\n",
       "9  RT @GOP: “Tomorrow, the voters of this state w..."
      ]
     },
     "metadata": {},
     "output_type": "display_data"
    }
   ],
   "source": [
    "data = pd.DataFrame(data=[tweet.text for tweet in tweets], columns=['Tweets'])\n",
    "\n",
    "# We display the first 10 elements of the dataframe:\n",
    "display(data.head(10))"
   ]
  },
  {
   "cell_type": "code",
   "execution_count": 30,
   "metadata": {},
   "outputs": [
    {
     "name": "stdout",
     "output_type": "stream",
     "text": [
      "['__class__', '__delattr__', '__dict__', '__dir__', '__doc__', '__eq__', '__format__', '__ge__', '__getattribute__', '__getstate__', '__gt__', '__hash__', '__init__', '__init_subclass__', '__le__', '__lt__', '__module__', '__ne__', '__new__', '__reduce__', '__reduce_ex__', '__repr__', '__setattr__', '__sizeof__', '__str__', '__subclasshook__', '__weakref__', '_api', '_json', 'author', 'contributors', 'coordinates', 'created_at', 'destroy', 'entities', 'favorite', 'favorite_count', 'favorited', 'geo', 'id', 'id_str', 'in_reply_to_screen_name', 'in_reply_to_status_id', 'in_reply_to_status_id_str', 'in_reply_to_user_id', 'in_reply_to_user_id_str', 'is_quote_status', 'lang', 'parse', 'parse_list', 'place', 'retweet', 'retweet_count', 'retweeted', 'retweets', 'source', 'source_url', 'text', 'truncated', 'user']\n"
     ]
    }
   ],
   "source": [
    "# Internal methods of a single tweet object:\n",
    "print(dir(tweets[0]))"
   ]
  },
  {
   "cell_type": "code",
   "execution_count": 31,
   "metadata": {},
   "outputs": [
    {
     "name": "stdout",
     "output_type": "stream",
     "text": [
      "1067624656943935493\n",
      "2018-11-28 03:42:08\n",
      "Twitter for iPhone\n",
      "43094\n",
      "10419\n",
      "None\n",
      "None\n",
      "{'hashtags': [], 'symbols': [], 'user_mentions': [], 'urls': []}\n"
     ]
    }
   ],
   "source": [
    "print(tweets[0].id)\n",
    "print(tweets[0].created_at)\n",
    "print(tweets[0].source)\n",
    "print(tweets[0].favorite_count)\n",
    "print(tweets[0].retweet_count)\n",
    "print(tweets[0].geo)\n",
    "print(tweets[0].coordinates)\n",
    "print(tweets[0].entities)"
   ]
  },
  {
   "cell_type": "code",
   "execution_count": 32,
   "metadata": {},
   "outputs": [],
   "source": [
    "data['len']  = np.array([len(tweet.text) for tweet in tweets])\n",
    "data['ID']   = np.array([tweet.id for tweet in tweets])\n",
    "data['Date'] = np.array([tweet.created_at for tweet in tweets])\n",
    "data['Source'] = np.array([tweet.source for tweet in tweets])\n",
    "data['Likes']  = np.array([tweet.favorite_count for tweet in tweets])\n",
    "data['RTs']    = np.array([tweet.retweet_count for tweet in tweets])"
   ]
  },
  {
   "cell_type": "code",
   "execution_count": 33,
   "metadata": {},
   "outputs": [
    {
     "data": {
      "text/html": [
       "<div>\n",
       "<style scoped>\n",
       "    .dataframe tbody tr th:only-of-type {\n",
       "        vertical-align: middle;\n",
       "    }\n",
       "\n",
       "    .dataframe tbody tr th {\n",
       "        vertical-align: top;\n",
       "    }\n",
       "\n",
       "    .dataframe thead th {\n",
       "        text-align: right;\n",
       "    }\n",
       "</style>\n",
       "<table border=\"1\" class=\"dataframe\">\n",
       "  <thead>\n",
       "    <tr style=\"text-align: right;\">\n",
       "      <th></th>\n",
       "      <th>Tweets</th>\n",
       "      <th>len</th>\n",
       "      <th>ID</th>\n",
       "      <th>Date</th>\n",
       "      <th>Source</th>\n",
       "      <th>Likes</th>\n",
       "      <th>RTs</th>\n",
       "    </tr>\n",
       "  </thead>\n",
       "  <tbody>\n",
       "    <tr>\n",
       "      <th>0</th>\n",
       "      <td>Congratulations to Senator Cindy Hyde-Smith on...</td>\n",
       "      <td>124</td>\n",
       "      <td>1067624656943935493</td>\n",
       "      <td>2018-11-28 03:42:08</td>\n",
       "      <td>Twitter for iPhone</td>\n",
       "      <td>43094</td>\n",
       "      <td>10419</td>\n",
       "    </tr>\n",
       "    <tr>\n",
       "      <th>1</th>\n",
       "      <td>Brenda Snipes, in charge of voting in Broward ...</td>\n",
       "      <td>139</td>\n",
       "      <td>1067623816921272325</td>\n",
       "      <td>2018-11-28 03:38:48</td>\n",
       "      <td>Twitter for iPhone</td>\n",
       "      <td>39829</td>\n",
       "      <td>9674</td>\n",
       "    </tr>\n",
       "    <tr>\n",
       "      <th>2</th>\n",
       "      <td>The Mueller Witch Hunt is a total disgrace. Th...</td>\n",
       "      <td>140</td>\n",
       "      <td>1067576713859817472</td>\n",
       "      <td>2018-11-28 00:31:37</td>\n",
       "      <td>Twitter for iPhone</td>\n",
       "      <td>69488</td>\n",
       "      <td>20472</td>\n",
       "    </tr>\n",
       "    <tr>\n",
       "      <th>3</th>\n",
       "      <td>....for electric cars. General Motors made a b...</td>\n",
       "      <td>140</td>\n",
       "      <td>1067494682249318402</td>\n",
       "      <td>2018-11-27 19:05:39</td>\n",
       "      <td>Twitter for iPhone</td>\n",
       "      <td>85291</td>\n",
       "      <td>20009</td>\n",
       "    </tr>\n",
       "    <tr>\n",
       "      <th>4</th>\n",
       "      <td>Very disappointed with General Motors and thei...</td>\n",
       "      <td>140</td>\n",
       "      <td>1067494680416407552</td>\n",
       "      <td>2018-11-27 19:05:39</td>\n",
       "      <td>Twitter for iPhone</td>\n",
       "      <td>96053</td>\n",
       "      <td>24753</td>\n",
       "    </tr>\n",
       "    <tr>\n",
       "      <th>5</th>\n",
       "      <td>Polls are open in Mississippi. We need Cindy H...</td>\n",
       "      <td>95</td>\n",
       "      <td>1067410952042283010</td>\n",
       "      <td>2018-11-27 13:32:57</td>\n",
       "      <td>Twitter for iPhone</td>\n",
       "      <td>61826</td>\n",
       "      <td>16537</td>\n",
       "    </tr>\n",
       "    <tr>\n",
       "      <th>6</th>\n",
       "      <td>....terrible Gang of Angry Democrats. Look at ...</td>\n",
       "      <td>139</td>\n",
       "      <td>1067404517841518593</td>\n",
       "      <td>2018-11-27 13:07:23</td>\n",
       "      <td>Twitter for iPhone</td>\n",
       "      <td>88930</td>\n",
       "      <td>24921</td>\n",
       "    </tr>\n",
       "    <tr>\n",
       "      <th>7</th>\n",
       "      <td>....The Fake News Media builds Bob Mueller up ...</td>\n",
       "      <td>140</td>\n",
       "      <td>1067398375337791488</td>\n",
       "      <td>2018-11-27 12:42:58</td>\n",
       "      <td>Twitter for iPhone</td>\n",
       "      <td>81293</td>\n",
       "      <td>22235</td>\n",
       "    </tr>\n",
       "    <tr>\n",
       "      <th>8</th>\n",
       "      <td>The Phony Witch Hunt continues, but Mueller an...</td>\n",
       "      <td>140</td>\n",
       "      <td>1067395266511347713</td>\n",
       "      <td>2018-11-27 12:30:37</td>\n",
       "      <td>Twitter for iPhone</td>\n",
       "      <td>80633</td>\n",
       "      <td>22939</td>\n",
       "    </tr>\n",
       "    <tr>\n",
       "      <th>9</th>\n",
       "      <td>RT @GOP: “Tomorrow, the voters of this state w...</td>\n",
       "      <td>139</td>\n",
       "      <td>1067280598128095232</td>\n",
       "      <td>2018-11-27 04:54:58</td>\n",
       "      <td>Twitter for iPhone</td>\n",
       "      <td>0</td>\n",
       "      <td>8727</td>\n",
       "    </tr>\n",
       "  </tbody>\n",
       "</table>\n",
       "</div>"
      ],
      "text/plain": [
       "                                              Tweets  len  \\\n",
       "0  Congratulations to Senator Cindy Hyde-Smith on...  124   \n",
       "1  Brenda Snipes, in charge of voting in Broward ...  139   \n",
       "2  The Mueller Witch Hunt is a total disgrace. Th...  140   \n",
       "3  ....for electric cars. General Motors made a b...  140   \n",
       "4  Very disappointed with General Motors and thei...  140   \n",
       "5  Polls are open in Mississippi. We need Cindy H...   95   \n",
       "6  ....terrible Gang of Angry Democrats. Look at ...  139   \n",
       "7  ....The Fake News Media builds Bob Mueller up ...  140   \n",
       "8  The Phony Witch Hunt continues, but Mueller an...  140   \n",
       "9  RT @GOP: “Tomorrow, the voters of this state w...  139   \n",
       "\n",
       "                    ID                Date              Source  Likes    RTs  \n",
       "0  1067624656943935493 2018-11-28 03:42:08  Twitter for iPhone  43094  10419  \n",
       "1  1067623816921272325 2018-11-28 03:38:48  Twitter for iPhone  39829   9674  \n",
       "2  1067576713859817472 2018-11-28 00:31:37  Twitter for iPhone  69488  20472  \n",
       "3  1067494682249318402 2018-11-27 19:05:39  Twitter for iPhone  85291  20009  \n",
       "4  1067494680416407552 2018-11-27 19:05:39  Twitter for iPhone  96053  24753  \n",
       "5  1067410952042283010 2018-11-27 13:32:57  Twitter for iPhone  61826  16537  \n",
       "6  1067404517841518593 2018-11-27 13:07:23  Twitter for iPhone  88930  24921  \n",
       "7  1067398375337791488 2018-11-27 12:42:58  Twitter for iPhone  81293  22235  \n",
       "8  1067395266511347713 2018-11-27 12:30:37  Twitter for iPhone  80633  22939  \n",
       "9  1067280598128095232 2018-11-27 04:54:58  Twitter for iPhone      0   8727  "
      ]
     },
     "metadata": {},
     "output_type": "display_data"
    }
   ],
   "source": [
    "display(data.head(10))"
   ]
  },
  {
   "cell_type": "code",
   "execution_count": 34,
   "metadata": {},
   "outputs": [
    {
     "name": "stdout",
     "output_type": "stream",
     "text": [
      "The lenght's average in tweets: 128.79\n"
     ]
    }
   ],
   "source": [
    "mean = np.mean(data['len'])\n",
    "\n",
    "print(\"The lenght's average in tweets: {}\".format(mean))"
   ]
  },
  {
   "cell_type": "code",
   "execution_count": 35,
   "metadata": {},
   "outputs": [
    {
     "name": "stdout",
     "output_type": "stream",
     "text": [
      "The tweet with more likes is: \n",
      "Tremendous success tonight. Thank you to all!\n",
      "Number of likes: 253245\n",
      "45 characters.\n",
      "\n",
      "The tweet with more retweets is: \n",
      "RT @realDonaldTrump: The Fake News is showing old footage of people climbing over our Ocean Area Fence. This is what it really looks like -…\n",
      "Number of retweets: 51812\n",
      "140 characters.\n",
      "\n"
     ]
    }
   ],
   "source": [
    "fav_max = np.max(data['Likes'])\n",
    "rt_max  = np.max(data['RTs'])\n",
    "\n",
    "fav = data[data.Likes == fav_max].index[0]\n",
    "rt  = data[data.RTs == rt_max].index[0]\n",
    "\n",
    "# Max FAVs:\n",
    "print(\"The tweet with more likes is: \\n{}\".format(data['Tweets'][fav]))\n",
    "print(\"Number of likes: {}\".format(fav_max))\n",
    "print(\"{} characters.\\n\".format(data['len'][fav]))\n",
    "\n",
    "# Max RTs:\n",
    "print(\"The tweet with more retweets is: \\n{}\".format(data['Tweets'][rt]))\n",
    "print(\"Number of retweets: {}\".format(rt_max))\n",
    "print(\"{} characters.\\n\".format(data['len'][rt]))"
   ]
  },
  {
   "cell_type": "code",
   "execution_count": 36,
   "metadata": {},
   "outputs": [],
   "source": [
    "tlen = pd.Series(data=data['len'].values, index=data['Date'])\n",
    "tfav = pd.Series(data=data['Likes'].values, index=data['Date'])\n",
    "tret = pd.Series(data=data['RTs'].values, index=data['Date'])"
   ]
  },
  {
   "cell_type": "code",
   "execution_count": 37,
   "metadata": {},
   "outputs": [
    {
     "data": {
      "image/png": "[encoded data removed]",
      "text/plain": [
       "<matplotlib.figure.Figure at 0x1e78aebbac8>"
      ]
     },
     "metadata": {},
     "output_type": "display_data"
    }
   ],
   "source": [
    "tlen.plot(figsize=(16,4), color='r');"
   ]
  },
  {
   "cell_type": "code",
   "execution_count": 38,
   "metadata": {},
   "outputs": [
    {
     "data": {
      "image/png": "[encoded data removed]",
      "text/plain": [
       "<matplotlib.figure.Figure at 0x1e78b008ba8>"
      ]
     },
     "metadata": {},
     "output_type": "display_data"
    }
   ],
   "source": [
    "tfav.plot(figsize=(16,4), label=\"Likes\", legend=True)\n",
    "tret.plot(figsize=(16,4), label=\"Retweets\", legend=True);"
   ]
  },
  {
   "cell_type": "code",
   "execution_count": 39,
   "metadata": {},
   "outputs": [
    {
     "name": "stdout",
     "output_type": "stream",
     "text": [
      "Creation of content sources:\n",
      "* Twitter for iPhone\n",
      "* Media Studio\n"
     ]
    }
   ],
   "source": [
    "sources = []\n",
    "for source in data['Source']:\n",
    "    if source not in sources:\n",
    "        sources.append(source)\n",
    "\n",
    "# We print sources list:\n",
    "print(\"Creation of content sources:\")\n",
    "for source in sources:\n",
    "    print(\"* {}\".format(source))"
   ]
  },
  {
   "cell_type": "code",
   "execution_count": 40,
   "metadata": {},
   "outputs": [
    {
     "data": {
      "image/png": "[encoded data removed]",
      "text/plain": [
       "<matplotlib.figure.Figure at 0x1e78b145860>"
      ]
     },
     "metadata": {},
     "output_type": "display_data"
    }
   ],
   "source": [
    "percent = np.zeros(len(sources))\n",
    "\n",
    "for source in data['Source']:\n",
    "    for index in range(len(sources)):\n",
    "        if source == sources[index]:\n",
    "            percent[index] += 1\n",
    "            pass\n",
    "\n",
    "percent /= 100\n",
    "\n",
    "# Pie chart:\n",
    "pie_chart = pd.Series(percent, index=sources, name='Sources')\n",
    "pie_chart.plot.pie(fontsize=11, autopct='%.2f', figsize=(6, 6));"
   ]
  },
  {
   "cell_type": "code",
   "execution_count": 41,
   "metadata": {},
   "outputs": [],
   "source": [
    "from textblob import TextBlob\n",
    "import re\n",
    "\n",
    "def clean_tweet(tweet):\n",
    "    '''\n",
    "    Utility function to clean the text in a tweet by removing \n",
    "    links and special characters using regex.\n",
    "    '''\n",
    "    return ' '.join(re.sub(\"(@[A-Za-z0-9]+)|([^0-9A-Za-z \\t])|(\\w+:\\/\\/\\S+)\", \" \", tweet).split())\n",
    "\n",
    "def analize_sentiment(tweet):\n",
    "    '''\n",
    "    Utility function to classify the polarity of a tweet\n",
    "    using textblob.\n",
    "    '''\n",
    "    analysis = TextBlob(clean_tweet(tweet))\n",
    "    if analysis.sentiment.polarity > 0:\n",
    "        return 1\n",
    "    elif analysis.sentiment.polarity == 0:\n",
    "        return 0\n",
    "    else:\n",
    "        return -1"
   ]
  },
  {
   "cell_type": "code",
   "execution_count": 42,
   "metadata": {},
   "outputs": [
    {
     "data": {
      "text/html": [
       "<div>\n",
       "<style scoped>\n",
       "    .dataframe tbody tr th:only-of-type {\n",
       "        vertical-align: middle;\n",
       "    }\n",
       "\n",
       "    .dataframe tbody tr th {\n",
       "        vertical-align: top;\n",
       "    }\n",
       "\n",
       "    .dataframe thead th {\n",
       "        text-align: right;\n",
       "    }\n",
       "</style>\n",
       "<table border=\"1\" class=\"dataframe\">\n",
       "  <thead>\n",
       "    <tr style=\"text-align: right;\">\n",
       "      <th></th>\n",
       "      <th>Tweets</th>\n",
       "      <th>len</th>\n",
       "      <th>ID</th>\n",
       "      <th>Date</th>\n",
       "      <th>Source</th>\n",
       "      <th>Likes</th>\n",
       "      <th>RTs</th>\n",
       "      <th>SA</th>\n",
       "    </tr>\n",
       "  </thead>\n",
       "  <tbody>\n",
       "    <tr>\n",
       "      <th>0</th>\n",
       "      <td>Congratulations to Senator Cindy Hyde-Smith on...</td>\n",
       "      <td>124</td>\n",
       "      <td>1067624656943935493</td>\n",
       "      <td>2018-11-28 03:42:08</td>\n",
       "      <td>Twitter for iPhone</td>\n",
       "      <td>43094</td>\n",
       "      <td>10419</td>\n",
       "      <td>1</td>\n",
       "    </tr>\n",
       "    <tr>\n",
       "      <th>1</th>\n",
       "      <td>Brenda Snipes, in charge of voting in Broward ...</td>\n",
       "      <td>139</td>\n",
       "      <td>1067623816921272325</td>\n",
       "      <td>2018-11-28 03:38:48</td>\n",
       "      <td>Twitter for iPhone</td>\n",
       "      <td>39829</td>\n",
       "      <td>9674</td>\n",
       "      <td>1</td>\n",
       "    </tr>\n",
       "    <tr>\n",
       "      <th>2</th>\n",
       "      <td>The Mueller Witch Hunt is a total disgrace. Th...</td>\n",
       "      <td>140</td>\n",
       "      <td>1067576713859817472</td>\n",
       "      <td>2018-11-28 00:31:37</td>\n",
       "      <td>Twitter for iPhone</td>\n",
       "      <td>69488</td>\n",
       "      <td>20472</td>\n",
       "      <td>0</td>\n",
       "    </tr>\n",
       "    <tr>\n",
       "      <th>3</th>\n",
       "      <td>....for electric cars. General Motors made a b...</td>\n",
       "      <td>140</td>\n",
       "      <td>1067494682249318402</td>\n",
       "      <td>2018-11-27 19:05:39</td>\n",
       "      <td>Twitter for iPhone</td>\n",
       "      <td>85291</td>\n",
       "      <td>20009</td>\n",
       "      <td>1</td>\n",
       "    </tr>\n",
       "    <tr>\n",
       "      <th>4</th>\n",
       "      <td>Very disappointed with General Motors and thei...</td>\n",
       "      <td>140</td>\n",
       "      <td>1067494680416407552</td>\n",
       "      <td>2018-11-27 19:05:39</td>\n",
       "      <td>Twitter for iPhone</td>\n",
       "      <td>96053</td>\n",
       "      <td>24753</td>\n",
       "      <td>-1</td>\n",
       "    </tr>\n",
       "    <tr>\n",
       "      <th>5</th>\n",
       "      <td>Polls are open in Mississippi. We need Cindy H...</td>\n",
       "      <td>95</td>\n",
       "      <td>1067410952042283010</td>\n",
       "      <td>2018-11-27 13:32:57</td>\n",
       "      <td>Twitter for iPhone</td>\n",
       "      <td>61826</td>\n",
       "      <td>16537</td>\n",
       "      <td>1</td>\n",
       "    </tr>\n",
       "    <tr>\n",
       "      <th>6</th>\n",
       "      <td>....terrible Gang of Angry Democrats. Look at ...</td>\n",
       "      <td>139</td>\n",
       "      <td>1067404517841518593</td>\n",
       "      <td>2018-11-27 13:07:23</td>\n",
       "      <td>Twitter for iPhone</td>\n",
       "      <td>88930</td>\n",
       "      <td>24921</td>\n",
       "      <td>-1</td>\n",
       "    </tr>\n",
       "    <tr>\n",
       "      <th>7</th>\n",
       "      <td>....The Fake News Media builds Bob Mueller up ...</td>\n",
       "      <td>140</td>\n",
       "      <td>1067398375337791488</td>\n",
       "      <td>2018-11-27 12:42:58</td>\n",
       "      <td>Twitter for iPhone</td>\n",
       "      <td>81293</td>\n",
       "      <td>22235</td>\n",
       "      <td>-1</td>\n",
       "    </tr>\n",
       "    <tr>\n",
       "      <th>8</th>\n",
       "      <td>The Phony Witch Hunt continues, but Mueller an...</td>\n",
       "      <td>140</td>\n",
       "      <td>1067395266511347713</td>\n",
       "      <td>2018-11-27 12:30:37</td>\n",
       "      <td>Twitter for iPhone</td>\n",
       "      <td>80633</td>\n",
       "      <td>22939</td>\n",
       "      <td>-1</td>\n",
       "    </tr>\n",
       "    <tr>\n",
       "      <th>9</th>\n",
       "      <td>RT @GOP: “Tomorrow, the voters of this state w...</td>\n",
       "      <td>139</td>\n",
       "      <td>1067280598128095232</td>\n",
       "      <td>2018-11-27 04:54:58</td>\n",
       "      <td>Twitter for iPhone</td>\n",
       "      <td>0</td>\n",
       "      <td>8727</td>\n",
       "      <td>1</td>\n",
       "    </tr>\n",
       "  </tbody>\n",
       "</table>\n",
       "</div>"
      ],
      "text/plain": [
       "                                              Tweets  len  \\\n",
       "0  Congratulations to Senator Cindy Hyde-Smith on...  124   \n",
       "1  Brenda Snipes, in charge of voting in Broward ...  139   \n",
       "2  The Mueller Witch Hunt is a total disgrace. Th...  140   \n",
       "3  ....for electric cars. General Motors made a b...  140   \n",
       "4  Very disappointed with General Motors and thei...  140   \n",
       "5  Polls are open in Mississippi. We need Cindy H...   95   \n",
       "6  ....terrible Gang of Angry Democrats. Look at ...  139   \n",
       "7  ....The Fake News Media builds Bob Mueller up ...  140   \n",
       "8  The Phony Witch Hunt continues, but Mueller an...  140   \n",
       "9  RT @GOP: “Tomorrow, the voters of this state w...  139   \n",
       "\n",
       "                    ID                Date              Source  Likes    RTs  \\\n",
       "0  1067624656943935493 2018-11-28 03:42:08  Twitter for iPhone  43094  10419   \n",
       "1  1067623816921272325 2018-11-28 03:38:48  Twitter for iPhone  39829   9674   \n",
       "2  1067576713859817472 2018-11-28 00:31:37  Twitter for iPhone  69488  20472   \n",
       "3  1067494682249318402 2018-11-27 19:05:39  Twitter for iPhone  85291  20009   \n",
       "4  1067494680416407552 2018-11-27 19:05:39  Twitter for iPhone  96053  24753   \n",
       "5  1067410952042283010 2018-11-27 13:32:57  Twitter for iPhone  61826  16537   \n",
       "6  1067404517841518593 2018-11-27 13:07:23  Twitter for iPhone  88930  24921   \n",
       "7  1067398375337791488 2018-11-27 12:42:58  Twitter for iPhone  81293  22235   \n",
       "8  1067395266511347713 2018-11-27 12:30:37  Twitter for iPhone  80633  22939   \n",
       "9  1067280598128095232 2018-11-27 04:54:58  Twitter for iPhone      0   8727   \n",
       "\n",
       "   SA  \n",
       "0   1  \n",
       "1   1  \n",
       "2   0  \n",
       "3   1  \n",
       "4  -1  \n",
       "5   1  \n",
       "6  -1  \n",
       "7  -1  \n",
       "8  -1  \n",
       "9   1  "
      ]
     },
     "metadata": {},
     "output_type": "display_data"
    }
   ],
   "source": [
    "data['SA'] = np.array([ analize_sentiment(tweet) for tweet in data['Tweets'] ])\n",
    "\n",
    "# We display the updated dataframe with the new column:\n",
    "display(data.head(10))"
   ]
  },
  {
   "cell_type": "code",
   "execution_count": 43,
   "metadata": {},
   "outputs": [],
   "source": [
    "pos_tweets = [ tweet for index, tweet in enumerate(data['Tweets']) if data['SA'][index] > 0]\n",
    "neu_tweets = [ tweet for index, tweet in enumerate(data['Tweets']) if data['SA'][index] == 0]\n",
    "neg_tweets = [ tweet for index, tweet in enumerate(data['Tweets']) if data['SA'][index] < 0]"
   ]
  },
  {
   "cell_type": "code",
   "execution_count": 44,
   "metadata": {},
   "outputs": [
    {
     "name": "stdout",
     "output_type": "stream",
     "text": [
      "Percentage of positive tweets: 57.5%\n",
      "Percentage of neutral tweets: 25.0%\n",
      "Percentage de negative tweets: 17.5%\n"
     ]
    }
   ],
   "source": [
    "print(\"Percentage of positive tweets: {}%\".format(len(pos_tweets)*100/len(data['Tweets'])))\n",
    "print(\"Percentage of neutral tweets: {}%\".format(len(neu_tweets)*100/len(data['Tweets'])))\n",
    "print(\"Percentage de negative tweets: {}%\".format(len(neg_tweets)*100/len(data['Tweets'])))"
   ]
  },
  {
   "cell_type": "code",
   "execution_count": null,
   "metadata": {},
   "outputs": [],
   "source": []
  }
 ],
 "metadata": {
  "kernelspec": {
   "display_name": "Python 3",
   "language": "python",
   "name": "python3"
  },
  "language_info": {
   "codemirror_mode": {
    "name": "ipython",
    "version": 3
   },
   "file_extension": ".py",
   "mimetype": "text/x-python",
   "name": "python",
   "nbconvert_exporter": "python",
   "pygments_lexer": "ipython3",
   "version": "3.6.4"
  }
 },
 "nbformat": 4,
 "nbformat_minor": 2
}
