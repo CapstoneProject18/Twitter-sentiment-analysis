{
 "cells": [
  {
   "cell_type": "code",
   "execution_count": 1,
   "metadata": {},
   "outputs": [],
   "source": [
    "ACCESS_TOKEN = \"1094926398-xjds9JDzgcoKpov7AqZQB1OSOa83P6Ot1ISf5PQ\"\n",
    "ACCESS_TOKEN_SECRET =\"EdMgr9HC6IIXYgwUp2VDxfrEtgfdbiLe1ziA7HeChoIsG\" \n",
    "CONSUMER_KEY =\"UaPhFj3tRVHEzrKkjkIT32HFb\" \n",
    "CONSUMER_SECRET =\"UrUCOkdmPrdNhdG4inCBZvhfDUoHZOD7x0VL9HWzCBPAcpFIaM\" "
   ]
  },
  {
   "cell_type": "code",
   "execution_count": null,
   "metadata": {},
   "outputs": [],
   "source": []
  }
 ],
 "metadata": {
  "kernelspec": {
   "display_name": "Python 3",
   "language": "python",
   "name": "python3"
  },
  "language_info": {
   "codemirror_mode": {
    "name": "ipython",
    "version": 3
   },
   "file_extension": ".py",
   "mimetype": "text/x-python",
   "name": "python",
   "nbconvert_exporter": "python",
   "pygments_lexer": "ipython3",
   "version": "3.6.4"
  }
 },
 "nbformat": 4,
 "nbformat_minor": 2
}
